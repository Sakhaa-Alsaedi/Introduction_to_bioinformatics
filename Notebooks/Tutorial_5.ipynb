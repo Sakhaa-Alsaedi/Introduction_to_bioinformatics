{
  "nbformat": 4,
  "nbformat_minor": 0,
  "metadata": {
    "colab": {
      "provenance": []
    },
    "kernelspec": {
      "name": "python3",
      "display_name": "Python 3"
    },
    "language_info": {
      "name": "python"
    }
  },
  "cells": [
    {
      "cell_type": "markdown",
      "source": [
        "# Python for Biostatistics\n",
        "Welcome to this interactive tutorial where we'll explore the powerful capabilities of Python applied to the field of biostatistics. Biostatistics is a discipline that utilizes statistical techniques to help answer questions in the biological, medical, and health sciences. Whether you're a student, a medical researcher, or a data science enthusiast, understanding biostatistics is crucial in the analysis of your data and the interpretation of your results."
      ],
      "metadata": {
        "id": "vWDD_p1VpSGY"
      }
    },
    {
      "cell_type": "markdown",
      "source": [
        "# Understanding Population and Sample Estimated Parameters\n",
        "\n",
        "# Task 1: Generating Data\n",
        "\n",
        "Create a synthetic dataset that represents our \"population\" data. We'll assume this data follows a normal distribution, often used in biological statistics for characteristics such as height, blood pressure, or reaction times.\n"
      ],
      "metadata": {
        "id": "58G3rP70qcNg"
      }
    },
    {
      "cell_type": "code",
      "execution_count": 1,
      "metadata": {
        "id": "tW6ub2HRm_E6"
      },
      "outputs": [],
      "source": [
        "import numpy as np\n",
        "\n",
        "# Set a seed for reproducibility\n",
        "np.random.seed(0)\n",
        "\n",
        "# Generate population data\n",
        "population_size = 100000\n",
        "mean = 65  # hypothetical average value, e.g., average height\n",
        "std_dev = 5  # standard deviation, representing the spread of the data\n",
        "population_data = np.random.normal(mean, std_dev, population_size)"
      ]
    },
    {
      "cell_type": "code",
      "source": [
        "# Define sample size\n",
        "sample_size = 100\n",
        "\n",
        "# Randomly select data points from the population to be in the sample\n",
        "sample_data = np.random.choice(population_data, sample_size, replace=False)"
      ],
      "metadata": {
        "id": "-mK2H7Jjq7k4"
      },
      "execution_count": 2,
      "outputs": []
    },
    {
      "cell_type": "markdown",
      "source": [
        "# Task 2: Calculating Sample Statistics\n",
        "\n",
        "Now, calculate the basic statistics of your sample. These are the \"estimates\" of the population parameters."
      ],
      "metadata": {
        "id": "Wty1VeVlrHU-"
      }
    },
    {
      "cell_type": "code",
      "source": [
        "sample_mean = np.mean(sample_data)\n",
        "sample_std_dev = np.std(sample_data, ddof=1)  # Using ddof=1 for an unbiased estimate\n",
        "sample_variance = np.var(sample_data, ddof=1)\n",
        "\n",
        "print(f\"Sample Mean: {sample_mean}\")\n",
        "print(f\"Sample Standard Deviation: {sample_std_dev}\")\n",
        "print(f\"Sample Variance: {sample_variance}\")"
      ],
      "metadata": {
        "colab": {
          "base_uri": "https://localhost:8080/"
        },
        "id": "2nCtbba5q_7W",
        "outputId": "3daa94c3-ed67-4140-e05f-1f1b0f7bb9e4"
      },
      "execution_count": 3,
      "outputs": [
        {
          "output_type": "stream",
          "name": "stdout",
          "text": [
            "Sample Mean: 65.19786447256085\n",
            "Sample Standard Deviation: 5.062741891321793\n",
            "Sample Variance: 25.631355458144565\n"
          ]
        }
      ]
    },
    {
      "cell_type": "markdown",
      "source": [
        "# Task 3: Exploring Group Differences with t-tests and ANOVA\n",
        "When dealing with continuous data, we often want to compare means across multiple groups. For instance, researchers might want to test if there is a significant difference in blood pressure between different patient groups treated with different medications.\n",
        "\n",
        "*   A t-test is used when comparing the means between just two groups.\n",
        "*   ANOVA (Analysis of Variance) is used when comparing three or more groups. It determines if there are any statistically significant differences between the means of three or more independent (unrelated) groups.\n"
      ],
      "metadata": {
        "id": "FzxqKZU-sgtJ"
      }
    },
    {
      "cell_type": "markdown",
      "source": [
        "Before you start, let's assume you have data on the systolic blood pressure of patients administered three different types of medication."
      ],
      "metadata": {
        "id": "eQ67Hv7ftks1"
      }
    },
    {
      "cell_type": "code",
      "source": [
        "import pandas as pd\n",
        "import numpy as np\n",
        "import scipy.stats as stats\n",
        "\n",
        "# Assuming you've loaded your dataset as a CSV file\n",
        "# data = pd.read_csv('your_data_file.csv')\n",
        "\n",
        "# For demonstration, we're creating a synthetic dataset\n",
        "np.random.seed(0)  # for reproducibility\n",
        "\n",
        "data = pd.DataFrame({\n",
        "    'blood_pressure': np.concatenate([np.random.normal(120, 5, 100),  # Medication A\n",
        "                                      np.random.normal(115, 5, 100),  # Medication B\n",
        "                                      np.random.normal(125, 8, 100)]), # Medication C\n",
        "    'medication': np.concatenate([['A'] * 100, ['B'] * 100, ['C'] * 100])\n",
        "})\n",
        "\n",
        "data.head()  # preview the dataset"
      ],
      "metadata": {
        "colab": {
          "base_uri": "https://localhost:8080/",
          "height": 206
        },
        "id": "TWQc_K3Xrpme",
        "outputId": "bea9c5fd-d77a-4812-d171-24a7f974442d"
      },
      "execution_count": 4,
      "outputs": [
        {
          "output_type": "execute_result",
          "data": {
            "text/plain": [
              "   blood_pressure medication\n",
              "0      128.820262          A\n",
              "1      122.000786          A\n",
              "2      124.893690          A\n",
              "3      131.204466          A\n",
              "4      129.337790          A"
            ],
            "text/html": [
              "\n",
              "  <div id=\"df-93b3da1f-8701-429d-ab24-bbd27a8958b5\" class=\"colab-df-container\">\n",
              "    <div>\n",
              "<style scoped>\n",
              "    .dataframe tbody tr th:only-of-type {\n",
              "        vertical-align: middle;\n",
              "    }\n",
              "\n",
              "    .dataframe tbody tr th {\n",
              "        vertical-align: top;\n",
              "    }\n",
              "\n",
              "    .dataframe thead th {\n",
              "        text-align: right;\n",
              "    }\n",
              "</style>\n",
              "<table border=\"1\" class=\"dataframe\">\n",
              "  <thead>\n",
              "    <tr style=\"text-align: right;\">\n",
              "      <th></th>\n",
              "      <th>blood_pressure</th>\n",
              "      <th>medication</th>\n",
              "    </tr>\n",
              "  </thead>\n",
              "  <tbody>\n",
              "    <tr>\n",
              "      <th>0</th>\n",
              "      <td>128.820262</td>\n",
              "      <td>A</td>\n",
              "    </tr>\n",
              "    <tr>\n",
              "      <th>1</th>\n",
              "      <td>122.000786</td>\n",
              "      <td>A</td>\n",
              "    </tr>\n",
              "    <tr>\n",
              "      <th>2</th>\n",
              "      <td>124.893690</td>\n",
              "      <td>A</td>\n",
              "    </tr>\n",
              "    <tr>\n",
              "      <th>3</th>\n",
              "      <td>131.204466</td>\n",
              "      <td>A</td>\n",
              "    </tr>\n",
              "    <tr>\n",
              "      <th>4</th>\n",
              "      <td>129.337790</td>\n",
              "      <td>A</td>\n",
              "    </tr>\n",
              "  </tbody>\n",
              "</table>\n",
              "</div>\n",
              "    <div class=\"colab-df-buttons\">\n",
              "\n",
              "  <div class=\"colab-df-container\">\n",
              "    <button class=\"colab-df-convert\" onclick=\"convertToInteractive('df-93b3da1f-8701-429d-ab24-bbd27a8958b5')\"\n",
              "            title=\"Convert this dataframe to an interactive table.\"\n",
              "            style=\"display:none;\">\n",
              "\n",
              "  <svg xmlns=\"http://www.w3.org/2000/svg\" height=\"24px\" viewBox=\"0 -960 960 960\">\n",
              "    <path d=\"M120-120v-720h720v720H120Zm60-500h600v-160H180v160Zm220 220h160v-160H400v160Zm0 220h160v-160H400v160ZM180-400h160v-160H180v160Zm440 0h160v-160H620v160ZM180-180h160v-160H180v160Zm440 0h160v-160H620v160Z\"/>\n",
              "  </svg>\n",
              "    </button>\n",
              "\n",
              "  <style>\n",
              "    .colab-df-container {\n",
              "      display:flex;\n",
              "      gap: 12px;\n",
              "    }\n",
              "\n",
              "    .colab-df-convert {\n",
              "      background-color: #E8F0FE;\n",
              "      border: none;\n",
              "      border-radius: 50%;\n",
              "      cursor: pointer;\n",
              "      display: none;\n",
              "      fill: #1967D2;\n",
              "      height: 32px;\n",
              "      padding: 0 0 0 0;\n",
              "      width: 32px;\n",
              "    }\n",
              "\n",
              "    .colab-df-convert:hover {\n",
              "      background-color: #E2EBFA;\n",
              "      box-shadow: 0px 1px 2px rgba(60, 64, 67, 0.3), 0px 1px 3px 1px rgba(60, 64, 67, 0.15);\n",
              "      fill: #174EA6;\n",
              "    }\n",
              "\n",
              "    .colab-df-buttons div {\n",
              "      margin-bottom: 4px;\n",
              "    }\n",
              "\n",
              "    [theme=dark] .colab-df-convert {\n",
              "      background-color: #3B4455;\n",
              "      fill: #D2E3FC;\n",
              "    }\n",
              "\n",
              "    [theme=dark] .colab-df-convert:hover {\n",
              "      background-color: #434B5C;\n",
              "      box-shadow: 0px 1px 3px 1px rgba(0, 0, 0, 0.15);\n",
              "      filter: drop-shadow(0px 1px 2px rgba(0, 0, 0, 0.3));\n",
              "      fill: #FFFFFF;\n",
              "    }\n",
              "  </style>\n",
              "\n",
              "    <script>\n",
              "      const buttonEl =\n",
              "        document.querySelector('#df-93b3da1f-8701-429d-ab24-bbd27a8958b5 button.colab-df-convert');\n",
              "      buttonEl.style.display =\n",
              "        google.colab.kernel.accessAllowed ? 'block' : 'none';\n",
              "\n",
              "      async function convertToInteractive(key) {\n",
              "        const element = document.querySelector('#df-93b3da1f-8701-429d-ab24-bbd27a8958b5');\n",
              "        const dataTable =\n",
              "          await google.colab.kernel.invokeFunction('convertToInteractive',\n",
              "                                                    [key], {});\n",
              "        if (!dataTable) return;\n",
              "\n",
              "        const docLinkHtml = 'Like what you see? Visit the ' +\n",
              "          '<a target=\"_blank\" href=https://colab.research.google.com/notebooks/data_table.ipynb>data table notebook</a>'\n",
              "          + ' to learn more about interactive tables.';\n",
              "        element.innerHTML = '';\n",
              "        dataTable['output_type'] = 'display_data';\n",
              "        await google.colab.output.renderOutput(dataTable, element);\n",
              "        const docLink = document.createElement('div');\n",
              "        docLink.innerHTML = docLinkHtml;\n",
              "        element.appendChild(docLink);\n",
              "      }\n",
              "    </script>\n",
              "  </div>\n",
              "\n",
              "\n",
              "<div id=\"df-1b3324ff-eb58-4061-a3dd-69501bcfd809\">\n",
              "  <button class=\"colab-df-quickchart\" onclick=\"quickchart('df-1b3324ff-eb58-4061-a3dd-69501bcfd809')\"\n",
              "            title=\"Suggest charts.\"\n",
              "            style=\"display:none;\">\n",
              "\n",
              "<svg xmlns=\"http://www.w3.org/2000/svg\" height=\"24px\"viewBox=\"0 0 24 24\"\n",
              "     width=\"24px\">\n",
              "    <g>\n",
              "        <path d=\"M19 3H5c-1.1 0-2 .9-2 2v14c0 1.1.9 2 2 2h14c1.1 0 2-.9 2-2V5c0-1.1-.9-2-2-2zM9 17H7v-7h2v7zm4 0h-2V7h2v10zm4 0h-2v-4h2v4z\"/>\n",
              "    </g>\n",
              "</svg>\n",
              "  </button>\n",
              "\n",
              "<style>\n",
              "  .colab-df-quickchart {\n",
              "      --bg-color: #E8F0FE;\n",
              "      --fill-color: #1967D2;\n",
              "      --hover-bg-color: #E2EBFA;\n",
              "      --hover-fill-color: #174EA6;\n",
              "      --disabled-fill-color: #AAA;\n",
              "      --disabled-bg-color: #DDD;\n",
              "  }\n",
              "\n",
              "  [theme=dark] .colab-df-quickchart {\n",
              "      --bg-color: #3B4455;\n",
              "      --fill-color: #D2E3FC;\n",
              "      --hover-bg-color: #434B5C;\n",
              "      --hover-fill-color: #FFFFFF;\n",
              "      --disabled-bg-color: #3B4455;\n",
              "      --disabled-fill-color: #666;\n",
              "  }\n",
              "\n",
              "  .colab-df-quickchart {\n",
              "    background-color: var(--bg-color);\n",
              "    border: none;\n",
              "    border-radius: 50%;\n",
              "    cursor: pointer;\n",
              "    display: none;\n",
              "    fill: var(--fill-color);\n",
              "    height: 32px;\n",
              "    padding: 0;\n",
              "    width: 32px;\n",
              "  }\n",
              "\n",
              "  .colab-df-quickchart:hover {\n",
              "    background-color: var(--hover-bg-color);\n",
              "    box-shadow: 0 1px 2px rgba(60, 64, 67, 0.3), 0 1px 3px 1px rgba(60, 64, 67, 0.15);\n",
              "    fill: var(--button-hover-fill-color);\n",
              "  }\n",
              "\n",
              "  .colab-df-quickchart-complete:disabled,\n",
              "  .colab-df-quickchart-complete:disabled:hover {\n",
              "    background-color: var(--disabled-bg-color);\n",
              "    fill: var(--disabled-fill-color);\n",
              "    box-shadow: none;\n",
              "  }\n",
              "\n",
              "  .colab-df-spinner {\n",
              "    border: 2px solid var(--fill-color);\n",
              "    border-color: transparent;\n",
              "    border-bottom-color: var(--fill-color);\n",
              "    animation:\n",
              "      spin 1s steps(1) infinite;\n",
              "  }\n",
              "\n",
              "  @keyframes spin {\n",
              "    0% {\n",
              "      border-color: transparent;\n",
              "      border-bottom-color: var(--fill-color);\n",
              "      border-left-color: var(--fill-color);\n",
              "    }\n",
              "    20% {\n",
              "      border-color: transparent;\n",
              "      border-left-color: var(--fill-color);\n",
              "      border-top-color: var(--fill-color);\n",
              "    }\n",
              "    30% {\n",
              "      border-color: transparent;\n",
              "      border-left-color: var(--fill-color);\n",
              "      border-top-color: var(--fill-color);\n",
              "      border-right-color: var(--fill-color);\n",
              "    }\n",
              "    40% {\n",
              "      border-color: transparent;\n",
              "      border-right-color: var(--fill-color);\n",
              "      border-top-color: var(--fill-color);\n",
              "    }\n",
              "    60% {\n",
              "      border-color: transparent;\n",
              "      border-right-color: var(--fill-color);\n",
              "    }\n",
              "    80% {\n",
              "      border-color: transparent;\n",
              "      border-right-color: var(--fill-color);\n",
              "      border-bottom-color: var(--fill-color);\n",
              "    }\n",
              "    90% {\n",
              "      border-color: transparent;\n",
              "      border-bottom-color: var(--fill-color);\n",
              "    }\n",
              "  }\n",
              "</style>\n",
              "\n",
              "  <script>\n",
              "    async function quickchart(key) {\n",
              "      const quickchartButtonEl =\n",
              "        document.querySelector('#' + key + ' button');\n",
              "      quickchartButtonEl.disabled = true;  // To prevent multiple clicks.\n",
              "      quickchartButtonEl.classList.add('colab-df-spinner');\n",
              "      try {\n",
              "        const charts = await google.colab.kernel.invokeFunction(\n",
              "            'suggestCharts', [key], {});\n",
              "      } catch (error) {\n",
              "        console.error('Error during call to suggestCharts:', error);\n",
              "      }\n",
              "      quickchartButtonEl.classList.remove('colab-df-spinner');\n",
              "      quickchartButtonEl.classList.add('colab-df-quickchart-complete');\n",
              "    }\n",
              "    (() => {\n",
              "      let quickchartButtonEl =\n",
              "        document.querySelector('#df-1b3324ff-eb58-4061-a3dd-69501bcfd809 button');\n",
              "      quickchartButtonEl.style.display =\n",
              "        google.colab.kernel.accessAllowed ? 'block' : 'none';\n",
              "    })();\n",
              "  </script>\n",
              "</div>\n",
              "    </div>\n",
              "  </div>\n"
            ]
          },
          "metadata": {},
          "execution_count": 4
        }
      ]
    },
    {
      "cell_type": "markdown",
      "source": [
        "Say we want to compare the effectiveness of medication 'A' versus medication 'B' on systolic blood pressure."
      ],
      "metadata": {
        "id": "W3w-ejq4tx95"
      }
    },
    {
      "cell_type": "code",
      "source": [
        "# Separating the blood pressure readings based on the type of medication\n",
        "group_A = data['blood_pressure'][data['medication'] == 'A']\n",
        "group_B = data['blood_pressure'][data['medication'] == 'B']\n",
        "\n",
        "# Perform a t-test\n",
        "t_stat, p_val = stats.ttest_ind(group_A, group_B)\n",
        "\n",
        "print(f\"T-statistic: {t_stat}\")\n",
        "print(f\"P-value: {p_val}\")"
      ],
      "metadata": {
        "colab": {
          "base_uri": "https://localhost:8080/"
        },
        "id": "tyMxauQntpWk",
        "outputId": "a9c5c8c6-ff74-4a5c-b603-6f276f37e701"
      },
      "execution_count": 5,
      "outputs": [
        {
          "output_type": "stream",
          "name": "stdout",
          "text": [
            "T-statistic: 6.735511068041367\n",
            "P-value: 1.732740880380291e-10\n"
          ]
        }
      ]
    },
    {
      "cell_type": "markdown",
      "source": [
        "Now, we want to compare the effects of medications A, B, and C together."
      ],
      "metadata": {
        "id": "CZAT9Bukt-4y"
      }
    },
    {
      "cell_type": "code",
      "source": [
        "group_C = data['blood_pressure'][data['medication'] == 'C']\n",
        "\n",
        "# Perform one-way ANOVA\n",
        "f_stat, p_val = stats.f_oneway(group_A, group_B, group_C)\n",
        "\n",
        "print(f\"F-statistic: {f_stat}\")\n",
        "print(f\"P-value: {p_val}\")"
      ],
      "metadata": {
        "colab": {
          "base_uri": "https://localhost:8080/"
        },
        "id": "VTXroSYVt1u2",
        "outputId": "b765ce18-659c-43e9-b835-3301555b9789"
      },
      "execution_count": 6,
      "outputs": [
        {
          "output_type": "stream",
          "name": "stdout",
          "text": [
            "F-statistic: 56.109937536611085\n",
            "P-value: 2.131866637422407e-21\n"
          ]
        }
      ]
    },
    {
      "cell_type": "markdown",
      "source": [
        "# Task 4: Applying Fisher's Exact Test in Contingency Table Analysis\n",
        "Suppose you're investigating the effect of a new drug on the incidence of a specific medical condition, and your data is categorical (e.g., \"Condition Improved\" or \"No Improvement\"). When sample sizes are small, traditional chi-square tests for analyzing contingency tables might not be appropriate due to the increased likelihood of Type I errors (false positives). In such cases, Fisher's exact test is preferable because it does not assume a \"chi-square\" distribution and is not affected by small expected frequencies."
      ],
      "metadata": {
        "id": "dmvSBVtTu3uz"
      }
    },
    {
      "cell_type": "markdown",
      "source": [
        "Assume you conducted a clinical trial with a small group of patients to test a new drug. You recorded whether or not patients' conditions improved after treatment. The data looks like this:\n",
        "\n",
        "Improved: 4 patients from the treatment group and 1 from the control group.\n",
        "No Improvement: 1 patient from the treatment group and 4 from the control group.\n",
        "Now, you'll use Fisher's exact test to determine if the improvement is associated with the treatment or occurs randomly."
      ],
      "metadata": {
        "id": "mEpMrBr2va3L"
      }
    },
    {
      "cell_type": "code",
      "source": [
        "import scipy.stats as stats\n",
        "\n",
        "# Data preparation: Constructing a 2x2 contingency table\n",
        "#                Treatment    Control\n",
        "# Improved           4          1\n",
        "# No Improvement     1          4\n",
        "\n",
        "contingency_table = [[4, 1],\n",
        "                     [1, 4]]\n",
        "\n",
        "# Perform Fisher's exact test\n",
        "odds_ratio, p_value = stats.fisher_exact(contingency_table)\n",
        "\n",
        "print(f\"Odds Ratio: {odds_ratio:.2f}\")\n",
        "print(f\"P-value: {p_value:.4f}\")"
      ],
      "metadata": {
        "colab": {
          "base_uri": "https://localhost:8080/"
        },
        "id": "W1AXO7EiuL0M",
        "outputId": "03121ed0-89bd-48bd-f913-2d838bb90bcd"
      },
      "execution_count": 7,
      "outputs": [
        {
          "output_type": "stream",
          "name": "stdout",
          "text": [
            "Odds Ratio: 16.00\n",
            "P-value: 0.2063\n"
          ]
        }
      ]
    },
    {
      "cell_type": "markdown",
      "source": [
        "# Task 5: Understanding and Applying False Discovery Rate (FDR) Correction\n",
        "In research areas where multiple hypothesis testing is conducted, controlling the False Discovery Rate (FDR) is essential. FDR is the expected proportion of false positives among all significant results. By controlling FDR, we reduce the likelihood of incorrectly rejecting null hypotheses (Type I errors)."
      ],
      "metadata": {
        "id": "mwQRDoukxds6"
      }
    },
    {
      "cell_type": "markdown",
      "source": [
        "Imagine a scenario where you're analyzing gene expression data trying to identify genes that are differentially expressed between two conditions, say, normal tissue and cancerous tissue. Each hypothesis test corresponds to one gene, and you have expression data for thousands of genes.\n",
        "\n",
        "For this exercise, we'll simulate p-values for multiple genes and then apply FDR correction.\n",
        "\n",
        "Step 1: Simulating p-values\n",
        "\n",
        "First, we'll simulate the scenario where we conduct 3000 tests, and 300 of these are true positives (there is a real effect), and the rest are null (no actual effect)."
      ],
      "metadata": {
        "id": "PUsllnZxxuMi"
      }
    },
    {
      "cell_type": "code",
      "source": [
        "import numpy as np\n",
        "\n",
        "np.random.seed(0)  # for reproducibility\n",
        "\n",
        "# Assume we have 3000 tests\n",
        "num_tests = 3000\n",
        "\n",
        "# Simulate p-values: for simplicity, we'll use uniform distribution for null hypotheses\n",
        "# and a different distribution for \"true\" hypotheses (to simulate some statistical effect)\n",
        "\n",
        "# We have 2700 'null' p-values and 300 'true' p-values\n",
        "p_values = np.concatenate([np.random.uniform(0, 1, 2700), np.random.uniform(0, 0.1, 300)])\n",
        "\n",
        "# Shuffle the p-values\n",
        "np.random.shuffle(p_values)"
      ],
      "metadata": {
        "id": "llLwRiRlv2Ki"
      },
      "execution_count": 8,
      "outputs": []
    },
    {
      "cell_type": "markdown",
      "source": [
        "Step 2: Applying FDR correction\n",
        "\n",
        "We will use the Benjamini-Hochberg procedure, one of the most common methods to control FDR."
      ],
      "metadata": {
        "id": "hRZlD9ZpyEa8"
      }
    },
    {
      "cell_type": "code",
      "source": [
        "from statsmodels.stats import multitest\n",
        "\n",
        "# Perform FDR correction using Benjamini-Hochberg procedure\n",
        "fdr_corrected_pvals = multitest.multipletests(p_values, method='fdr_bh')[1]\n",
        "\n",
        "# Let's assume our significance threshold is 0.05\n",
        "significant_indices = np.where(fdr_corrected_pvals < 0.05)[0]\n",
        "num_significant = len(significant_indices)\n",
        "\n",
        "print(f\"Number of significant tests after FDR correction: {num_significant}\")"
      ],
      "metadata": {
        "colab": {
          "base_uri": "https://localhost:8080/"
        },
        "id": "tZAcyduryA9e",
        "outputId": "8d412b93-4d51-4b57-fd01-1bf8f8865db6"
      },
      "execution_count": 9,
      "outputs": [
        {
          "output_type": "stream",
          "name": "stdout",
          "text": [
            "Number of significant tests after FDR correction: 0\n"
          ]
        }
      ]
    }
  ]
}