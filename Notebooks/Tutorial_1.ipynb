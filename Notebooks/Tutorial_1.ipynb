{
  "nbformat": 4,
  "nbformat_minor": 0,
  "metadata": {
    "colab": {
      "provenance": []
    },
    "kernelspec": {
      "name": "python3",
      "display_name": "Python 3"
    },
    "language_info": {
      "name": "python"
    }
  },
  "cells": [
    {
      "cell_type": "markdown",
      "source": [
        "# Exploring the Central Dogma of Molecular Biology: Unraveling the Genetic Information Flow\n",
        "\n",
        "Welcome to this Bioinformatics tutorial, where we embark on a journey through the intricate world of molecular biology. The central dogma, a concept introduced by Francis Crick in 1958, lies at the heart of understanding how the genetic information encoded in DNA orchestrates the creation of functional proteins, the workhorses of life.\n",
        "\n",
        "In the quest to comprehend the molecular intricacies of life, the central dogma serves as our guiding light. It elegantly outlines the sequential flow of genetic information: from the stable repository of instructions encoded in DNA to the dynamic world of RNA, and finally, to the synthesis of proteins. This fundamental process underpins the very essence of life, enabling the creation of diverse molecules that drive the myriad of biological processes we witness in living organisms.\n",
        "\n",
        "\n",
        "<div style=\"text-align:center;\">\n",
        "    <img src=\"https://slcc.pressbooks.pub/app/uploads/sites/20/2020/12/Central-Dogma-Sequences-1024x512.png\" alt=\"Image Description\" width=\"800\">\n",
        "</div>\n",
        "\n",
        "\n",
        "\n",
        "Throughout this tutorial, we will delve into the essential operations that bioinformaticians and molecular biologists employ to decipher, manipulate, and analyze the central dogma. Whether you are a novice in the field or an experienced researcher seeking to deepen your understanding, this tutorial is designed to provide you with valuable insights into the tools and techniques used to navigate the molecular pathways that govern life itself.\n",
        "\n",
        "\n",
        "Let's begin our exploration of the code of life!\n"
      ],
      "metadata": {
        "id": "8dDw8kVENNxM"
      }
    },
    {
      "cell_type": "markdown",
      "source": [
        "# **Task 1.** Read the DNA Sequence from file"
      ],
      "metadata": {
        "id": "Ex91Bp3SasaX"
      }
    },
    {
      "cell_type": "markdown",
      "source": [
        "1. Go to **[GenBank](https://www.ncbi.nlm.nih.gov/genbank/)**, a genetic sequence database that includes collection of all publicly available DNA sequences.\n",
        "\n",
        "2. Write any gene name you prefer to explore (e.g. AGTR1) and download the gene sequence file (it will be downloaded as a .zip file but we will use **gene.fna** file).\n",
        "\n",
        "3. Upload **gene.fna** file into your Colab."
      ],
      "metadata": {
        "id": "zae0nCqzttUZ"
      }
    },
    {
      "cell_type": "code",
      "source": [
        "# Open the file for reading\n",
        "with open('gene.fna', 'r') as file:\n",
        "    # Initialize an empty string to store the gene sequences\n",
        "    gene_sequences = \"\"\n",
        "\n",
        "    # Read each line in the file\n",
        "    for line in file:\n",
        "        # Check if the line starts with '>'\n",
        "        if line.startswith('>'):\n",
        "            # This is a header line, you can skip it or process it as needed\n",
        "            pass\n",
        "        else:\n",
        "            # Append the gene sequence to the gene_sequences string\n",
        "            gene_sequences += line.strip()\n",
        "\n",
        "# Print the entire gene sequence\n",
        "print(gene_sequences)\n"
      ],
      "metadata": {
        "id": "VJJ3L09yjGft"
      },
      "execution_count": null,
      "outputs": []
    },
    {
      "cell_type": "markdown",
      "source": [
        "# **Task 2.** Find where is replication origin in the DNA sequence"
      ],
      "metadata": {
        "id": "1ahaMWUx0eTE"
      }
    },
    {
      "cell_type": "code",
      "source": [
        "def find_ori_location(genome):\n",
        "    ori = \"ATACAATA\"\n",
        "\n",
        "    for i in range(len(genome) - len(ori) + 1):\n",
        "        if genome[i:i + len(ori)] == ori:\n",
        "            return i\n",
        "\n",
        "    return -1  # Return -1 if ori is not found in the genome\n",
        "\n",
        "ori_location = find_ori_location(gene_sequences)\n",
        "\n",
        "if ori_location != -1:\n",
        "    print(\"The origin of replication (ori) is found at position \" + str(ori_location))\n",
        "else:\n",
        "    print(\"The origin of replication (ori) was not found in the genome.\")"
      ],
      "metadata": {
        "id": "VPMZbch6r3Li"
      },
      "execution_count": null,
      "outputs": []
    },
    {
      "cell_type": "markdown",
      "source": [
        "# **Task 3.** How to transcribe a DNA sequence into an RNA sequence\n",
        "\n",
        "Transcription is the process of converting DNA into RNA. In this process, thymine (T) in DNA is replaced with uracil (U) in RNA"
      ],
      "metadata": {
        "id": "1DZpnF3zBOxX"
      }
    },
    {
      "cell_type": "code",
      "source": [
        "# Define the DNA sequence\n",
        "dna_sequence = gene_sequences\n",
        "\n",
        "# Initialize an empty string to store the RNA sequence\n",
        "rna_sequence = \"\"\n",
        "\n",
        "# Transcribe DNA to RNA by replacing 'T' with 'U'\n",
        "for base in dna_sequence:\n",
        "    if base == 'T':\n",
        "        rna_sequence += 'U'\n",
        "    else:\n",
        "        rna_sequence += base\n",
        "\n",
        "# Print the RNA sequence\n",
        "print(rna_sequence)\n"
      ],
      "metadata": {
        "id": "UW2A1VL2qZrT"
      },
      "execution_count": null,
      "outputs": []
    },
    {
      "cell_type": "markdown",
      "source": [
        "# **Task 4.** Find a specific motifs within the DNA sequence\n",
        "\n",
        "Motif is a region (a subsequence) of protein or DNA sequence that has a specific structure, presence of a motif may be used as a base of protein classification."
      ],
      "metadata": {
        "id": "aILERZOsCzkt"
      }
    },
    {
      "cell_type": "code",
      "source": [
        "# Import/Call a library/package for reguler expressions\n",
        "import re\n",
        "\n",
        "# Define the DNA sequence\n",
        "dna_sequence = gene_sequences\n",
        "\n",
        "# Define the motif you want to search for\n",
        "motif = \"TACGT\"\n",
        "\n",
        "# Use regular expressions to search for the motif\n",
        "matches = re.finditer(motif, dna_sequence)\n",
        "\n",
        "# Initialize a list to store the positions of motif matches\n",
        "match_positions = []\n",
        "\n",
        "# Iterate over the matches and record their positions\n",
        "for match in matches:\n",
        "    start = match.start()\n",
        "    end = match.end()\n",
        "    match_positions.append((start, end))\n",
        "\n",
        "# Print the positions of motif matches\n",
        "if match_positions:\n",
        "    print(f\"The motif '{motif}' was found at the following positions:\")\n",
        "    for start, end in match_positions:\n",
        "        print(f\"Start: {start}, End: {end}\")\n",
        "else:\n",
        "    print(f\"The motif '{motif}' was not found in the DNA sequence.\")\n"
      ],
      "metadata": {
        "id": "ardbO9JVutWh"
      },
      "execution_count": null,
      "outputs": []
    },
    {
      "cell_type": "markdown",
      "source": [
        "# **Task 5.** Calculate the GC content (the percentage of guanine (G) and cytosine (C) bases) in a DNA sequence"
      ],
      "metadata": {
        "id": "_P_u0gqVH7h0"
      }
    },
    {
      "cell_type": "code",
      "source": [
        "# Define the DNA sequence\n",
        "dna_sequence = gene_sequences\n",
        "\n",
        "# Calculate the GC content\n",
        "gc_count = dna_sequence.count('G') + dna_sequence.count('C')\n",
        "sequence_length = len(dna_sequence)\n",
        "gc_content = (gc_count / sequence_length) * 100\n",
        "\n",
        "# Print the GC content\n",
        "print(f\"GC Content: {gc_content:.2f}%\")"
      ],
      "metadata": {
        "id": "Q_SpGPBAw74P"
      },
      "execution_count": null,
      "outputs": []
    },
    {
      "cell_type": "markdown",
      "source": [
        "# **Task 6.** Translate an RNA sequence into a protein sequence\n",
        "\n",
        "Mainly we will use a dictionary that maps RNA codons to amino acids.\n",
        "\n",
        "<div style=\"text-align:center;\">\n",
        "    <img src=\"https://upload.wikimedia.org/wikipedia/commons/7/70/Aminoacids_table.svg\" alt=\"Image Description\" width=\"400\">\n",
        "</div>\n",
        "\n",
        "The rule: start from the center to find the first letter of triplet, then move toward the periphery for 2nd and 3rd letters.\n"
      ],
      "metadata": {
        "id": "jycvsechJ9pG"
      }
    },
    {
      "cell_type": "code",
      "source": [
        "# Define a dictionary for RNA to amino acid translation\n",
        "rna_codon_table = {\n",
        "    \"AUG\": \"M\",  # Start codon\n",
        "    \"UUU\": \"F\",  \"UUC\": \"F\",\n",
        "    \"UUA\": \"L\",  \"UUG\": \"L\",\n",
        "    \"UCU\": \"S\",  \"UCC\": \"S\",  \"UCA\": \"S\",  \"UCG\": \"S\",\n",
        "    \"UAU\": \"Y\",  \"UAC\": \"Y\",\n",
        "    \"UGU\": \"C\",  \"UGC\": \"C\",\n",
        "    \"UGG\": \"W\",\n",
        "    \"CUU\": \"L\",  \"CUC\": \"L\",  \"CUA\": \"L\",  \"CUG\": \"L\",\n",
        "    \"CCU\": \"P\",  \"CCC\": \"P\",  \"CCA\": \"P\",  \"CCG\": \"P\",\n",
        "    \"CAU\": \"H\",  \"CAC\": \"H\",\n",
        "    \"CAA\": \"Q\",  \"CAG\": \"Q\",\n",
        "    \"CGU\": \"R\",  \"CGC\": \"R\",  \"CGA\": \"R\",  \"CGG\": \"R\",\n",
        "    \"AUU\": \"I\",  \"AUC\": \"I\",  \"AUA\": \"I\",\n",
        "    \"ACU\": \"T\",  \"ACC\": \"T\",  \"ACA\": \"T\",  \"ACG\": \"T\",\n",
        "    \"AAU\": \"N\",  \"AAC\": \"N\",\n",
        "    \"AAA\": \"K\",  \"AAG\": \"K\",\n",
        "    \"AGU\": \"S\",  \"AGC\": \"S\",\n",
        "    \"AGA\": \"R\",  \"AGG\": \"R\",\n",
        "    \"GUU\": \"V\",  \"GUC\": \"V\",  \"GUA\": \"V\",  \"GUG\": \"V\",\n",
        "    \"GCU\": \"A\",  \"GCC\": \"A\",  \"GCA\": \"A\",  \"GCG\": \"A\",\n",
        "    \"GAU\": \"D\",  \"GAC\": \"D\",\n",
        "    \"GAA\": \"E\",  \"GAG\": \"E\",\n",
        "    \"GGU\": \"G\",  \"GGC\": \"G\",  \"GGA\": \"G\",  \"GGG\": \"G\",\n",
        "    \"UAA\": \"*\",  \"UAG\": \"*\",  \"UGA\": \"*\",  # Stop codons\n",
        "}\n",
        "\n",
        "# Initialize an empty string to store the protein sequence\n",
        "protein_sequence = \"\"\n",
        "\n",
        "# Translate the RNA sequence into a protein sequence\n",
        "for i in range(0, len(rna_sequence), 3):\n",
        "    codon = rna_sequence[i:i+3]\n",
        "    amino_acid = rna_codon_table.get(codon, 'X')  # 'X' for unknown codons\n",
        "    protein_sequence += amino_acid\n",
        "\n",
        "# Print the protein sequence\n",
        "print(protein_sequence)"
      ],
      "metadata": {
        "id": "SEfgXcLkzF4L"
      },
      "execution_count": null,
      "outputs": []
    }
  ]
}
